{
 "cells": [
  {
   "cell_type": "markdown",
   "metadata": {
    "id": "gu_-mo-Yt780"
   },
   "source": [
    "**COVID detection using CNN** <br>\n",
    "--  Custom ResNet Architecture with 56 layers"
   ]
  },
  {
   "cell_type": "code",
   "execution_count": null,
   "metadata": {
    "id": "V1T4GEKNfX0m"
   },
   "outputs": [],
   "source": [
    "import tensorflow as tf\n",
    "from tensorflow import keras\n",
    "from tensorflow.keras import layers\n",
    "from keras.preprocessing.image import ImageDataGenerator\n",
    "import os\n",
    "from tqdm.notebook import tqdm"
   ]
  },
  {
   "cell_type": "code",
   "execution_count": null,
   "metadata": {
    "id": "kG9Oi2OSu4TV"
   },
   "outputs": [],
   "source": [
    "labels = [\"COVID\",\"NORMAL\"]"
   ]
  },
  {
   "cell_type": "code",
   "execution_count": null,
   "metadata": {
    "colab": {
     "base_uri": "https://localhost:8080/"
    },
    "id": "407oZ_4ykwPE",
    "outputId": "3ddb41f3-61c3-4f1e-a88f-1c0c2ee5562e"
   },
   "outputs": [],
   "source": [
    "# from google.colab import drive\n",
    "# drive.mount('/content/drive')"
   ]
  },
  {
   "cell_type": "code",
   "execution_count": null,
   "metadata": {
    "id": "u9QRq7Vwk602"
   },
   "outputs": [],
   "source": [
    "dataset_dir = \"dataset/covidx/\""
   ]
  },
  {
   "cell_type": "code",
   "execution_count": null,
   "metadata": {
    "id": "kz32AprdlKt2"
   },
   "outputs": [],
   "source": [
    "test_path = dataset_dir + '/test/'\n",
    "train_path = dataset_dir + '/train/'\n"
   ]
  },
  {
   "cell_type": "code",
   "execution_count": null,
   "metadata": {
    "colab": {
     "base_uri": "https://localhost:8080/"
    },
    "id": "P01m7yLUvonB",
    "outputId": "ebc41381-6ce3-42d3-eea2-157c83cd48fc"
   },
   "outputs": [],
   "source": [
    "os.chdir(r\"C:\\Users\\user\\OneDrive - University of Wolverhampton\\fyp\\final\\model\")\n",
    "len(os.listdir(train_path+\"COVID\"))"
   ]
  },
  {
   "cell_type": "code",
   "execution_count": null,
   "metadata": {
    "colab": {
     "base_uri": "https://localhost:8080/"
    },
    "id": "D4GtpaJ4aHH-",
    "outputId": "e57486c7-f708-4ef6-e099-fe8efc1aff92"
   },
   "outputs": [],
   "source": [
    "len(os.listdir(train_path+\"NORMAL\"))"
   ]
  },
  {
   "cell_type": "code",
   "execution_count": null,
   "metadata": {
    "colab": {
     "base_uri": "https://localhost:8080/"
    },
    "id": "eZA9Tam0vodq",
    "outputId": "3d168f33-ad42-4776-9e15-48ce2881d2ad"
   },
   "outputs": [],
   "source": [
    "print(os.listdir(train_path))"
   ]
  },
  {
   "cell_type": "code",
   "execution_count": null,
   "metadata": {
    "colab": {
     "base_uri": "https://localhost:8080/"
    },
    "id": "adCcG4eoIFdB",
    "outputId": "8cbafed2-23cb-4b67-a538-7b01c87e397d"
   },
   "outputs": [],
   "source": [
    "os.listdir(test_path)"
   ]
  },
  {
   "cell_type": "code",
   "execution_count": null,
   "metadata": {
    "id": "uo12Vr9AMFXC"
   },
   "outputs": [],
   "source": [
    "import cv2, os\n",
    "import numpy as np"
   ]
  },
  {
   "cell_type": "code",
   "execution_count": null,
   "metadata": {
    "colab": {
     "base_uri": "https://localhost:8080/",
     "height": 114,
     "referenced_widgets": [
      "df7f0cb583954fb49510e49c4ef5cb9d",
      "c81f4f251bb74fd08d7c752ade9eeb69",
      "a08ffa8e625e44bc899a6e69c8e00945",
      "38b983ddfb77417098c6e8b417bce8f7",
      "cf2c90ce02024007bf9913ab3243dc06",
      "dd845d3534fa4bb9882be6e5f771dc9e",
      "2a75b771939d49b1b8229ef429184b08",
      "d48cc5f3c50f4cb087a15b25ff8aa099",
      "820fcf4689844cde8033d7c1b7abba34",
      "13bece5a76fc47af9e75e0b4441dc809",
      "81d8d072b57e426fa0fa3d09f8010bb9",
      "6c4dbf0b3fd94e63a0da5d07afe43f58",
      "bc96a9c9227e42e1b21c4ff2a77a4ce6",
      "87e0d230fdac4ed9bb565a889c0bf678",
      "707ab722083c43809a5c065d828c25a6",
      "3dc3dd3934f44f0c96b2b1d96bcd20c2"
     ]
    },
    "id": "D9QzR8EhLgpT",
    "outputId": "937d4e9a-b091-4b77-ddf0-f68e82918e6f"
   },
   "outputs": [],
   "source": [
    "\n",
    "X_train = []\n",
    "y_train = []\n",
    "\n",
    "for folder in os.listdir(train_path):\n",
    "    for image in tqdm(os.listdir(os.path.join(train_path, folder))):\n",
    "        img = cv2.imread(os.path.join(train_path, folder, image))\n",
    "        img = cv2.resize(img, (224,224))\n",
    "        img = np.array(img, dtype='float32')\n",
    "        X_train.append(img)\n",
    "        y_train.append(folder)"
   ]
  },
  {
   "cell_type": "code",
   "execution_count": null,
   "metadata": {
    "colab": {
     "base_uri": "https://localhost:8080/"
    },
    "id": "qPPqnbs7ZnmT",
    "outputId": "784689c9-3d6a-4ecd-9bf6-cb79eeccaf2d",
    "tags": []
   },
   "outputs": [],
   "source": [
    "print(len(X_train))"
   ]
  },
  {
   "cell_type": "code",
   "execution_count": null,
   "metadata": {},
   "outputs": [],
   "source": [
    "print(len(y_train))"
   ]
  },
  {
   "cell_type": "code",
   "execution_count": null,
   "metadata": {
    "id": "wtfj7n3qMv1q"
   },
   "outputs": [],
   "source": [
    "X_test = []\n",
    "y_test = []\n",
    "\n",
    "for folder in os.listdir(test_path):\n",
    "    for image in tqdm(os.listdir(os.path.join(test_path, folder))):\n",
    "        img = cv2.imread(os.path.join(test_path, folder, image))\n",
    "        img = cv2.resize(img, (224,224))\n",
    "        img = np.array(img, dtype='float32')\n",
    "        X_test.append(img)\n",
    "        y_test.append(folder)"
   ]
  },
  {
   "cell_type": "code",
   "execution_count": null,
   "metadata": {
    "id": "YJNAO-CfBH0q",
    "scrolled": true
   },
   "outputs": [],
   "source": [
    "label_train = []\n",
    "for ele in y_train:\n",
    "    if ele == \"NORMAL\":\n",
    "        label_train.append(0)\n",
    "    else:\n",
    "        label_train.append(1)"
   ]
  },
  {
   "cell_type": "code",
   "execution_count": null,
   "metadata": {
    "id": "_eAh87qoBzES"
   },
   "outputs": [],
   "source": [
    "label_test = []\n",
    "for ele in y_test:\n",
    "    if ele == \"NORMAL\":\n",
    "        label_test.append(0)\n",
    "    else:\n",
    "        label_test.append(1)"
   ]
  },
  {
   "cell_type": "code",
   "execution_count": null,
   "metadata": {
    "id": "4OIWKfuOD0H_"
   },
   "outputs": [],
   "source": [
    "X_train = np.array(X_train, dtype='float32')\n",
    "X_test = np.array(X_test, dtype='float32')"
   ]
  },
  {
   "cell_type": "code",
   "execution_count": null,
   "metadata": {
    "jupyter": {
     "outputs_hidden": true
    },
    "tags": []
   },
   "outputs": [],
   "source": [
    "d = {'Data':[]}\n",
    "for i in label_train:\n",
    "    if i==0:\n",
    "        d[\"Data\"].append(i)\n",
    "    else:\n",
    "        d['Data'].append(i)"
   ]
  },
  {
   "cell_type": "code",
   "execution_count": null,
   "metadata": {
    "tags": []
   },
   "outputs": [],
   "source": [
    "import seaborn as sns\n",
    "import matplotlib.pyplot as plt\n",
    "sns.set_theme(style=\"darkgrid\")\n",
    "sns.countplot(x=\"Data\",data= d)\n",
    "plt.suptitle(\"0 = Normal and 1 = Covid\")\n",
    "plt.show()"
   ]
  },
  {
   "cell_type": "code",
   "execution_count": null,
   "metadata": {
    "id": "7fkDQSwNB4m7",
    "tags": []
   },
   "outputs": [],
   "source": [
    "label_train = np.array(label_train)\n",
    "label_test = np.array(label_test)\n",
    "label_train"
   ]
  },
  {
   "cell_type": "code",
   "execution_count": null,
   "metadata": {},
   "outputs": [],
   "source": [
    "import pandas as pd\n",
    "train_count = pd.DataFrame(label_train)"
   ]
  },
  {
   "cell_type": "code",
   "execution_count": null,
   "metadata": {
    "colab": {
     "base_uri": "https://localhost:8080/"
    },
    "id": "UqE5R_TWDQZn",
    "outputId": "cbfaa2b4-5038-4507-a459-9cfd892075b5"
   },
   "outputs": [],
   "source": [
    "X_train.shape"
   ]
  },
  {
   "cell_type": "code",
   "execution_count": null,
   "metadata": {
    "colab": {
     "base_uri": "https://localhost:8080/"
    },
    "id": "BKuD4H2jFIh2",
    "outputId": "e37fddae-1116-451b-9e04-8c83cd82a11a",
    "scrolled": true
   },
   "outputs": [],
   "source": [
    "X_test.shape"
   ]
  },
  {
   "cell_type": "code",
   "execution_count": null,
   "metadata": {
    "jupyter": {
     "outputs_hidden": true
    },
    "tags": []
   },
   "outputs": [],
   "source": [
    "X_train"
   ]
  },
  {
   "cell_type": "code",
   "execution_count": null,
   "metadata": {},
   "outputs": [],
   "source": [
    "print(type(label_train))\n",
    "label_train.shape"
   ]
  },
  {
   "cell_type": "code",
   "execution_count": null,
   "metadata": {
    "id": "RiX1bARFFLQK"
   },
   "outputs": [],
   "source": [
    "label_train = label_train.reshape(-1,1)\n",
    "label_test = label_test.reshape(-1,1)\n",
    "print(label_test.shape)\n",
    "label_train.shape"
   ]
  },
  {
   "cell_type": "code",
   "execution_count": null,
   "metadata": {
    "id": "5-aWFZW2Mv5M"
   },
   "outputs": [],
   "source": [
    "# import pickle\n",
    "\n",
    "# with open('X_train.pickle', 'wb') as f:\n",
    "#   pickle.dump(X_train, f)\n",
    "\n",
    "# with open('y_train.pickle', 'wb') as f:\n",
    "#   pickle.dump(label_train, f)"
   ]
  },
  {
   "cell_type": "code",
   "execution_count": null,
   "metadata": {
    "id": "_COYCqadLj75"
   },
   "outputs": [],
   "source": [
    "# with open('X_test.pickle', 'wb') as f:\n",
    "#   pickle.dump(X_test, f)\n",
    "\n",
    "\n",
    "# with open('y_test.pickle', 'wb') as f:\n",
    "#   pickle.dump(label_test, f)"
   ]
  },
  {
   "cell_type": "code",
   "execution_count": null,
   "metadata": {
    "colab": {
     "base_uri": "https://localhost:8080/"
    },
    "id": "KNCxh_M9MwF7",
    "outputId": "0d8b1c06-b519-4ff8-9d0e-2233f77bb66c"
   },
   "outputs": [],
   "source": [
    "print(len(X_train))\n",
    "print(len(y_train))\n",
    "print(len(X_test))\n",
    "print(len(y_test))"
   ]
  },
  {
   "cell_type": "code",
   "execution_count": null,
   "metadata": {
    "id": "QL7AH1SwO2eF"
   },
   "outputs": [],
   "source": [
    "# X_train_new = pickle.load(open('X_train.pickle', 'rb'))\n",
    "# y_train_new = pickle.load(open('y_train.pickle', 'rb'))\n",
    "# X_test_new = pickle.load(open('X_test.pickle', 'rb'))\n",
    "# y_test_new = pickle.load(open('y_test.pickle', 'rb'))"
   ]
  },
  {
   "cell_type": "code",
   "execution_count": null,
   "metadata": {
    "colab": {
     "base_uri": "https://localhost:8080/",
     "height": 1000
    },
    "id": "kUxjy4tS--6l",
    "jupyter": {
     "outputs_hidden": true
    },
    "outputId": "997248e8-ddb1-4c2b-969e-83a23400d114",
    "tags": []
   },
   "outputs": [],
   "source": [
    "import matplotlib.pyplot as plt\n",
    "import cv2\n",
    "import skimage.transform\n",
    "covid_images = os.listdir(test_path + \"COVID\")\n",
    "normal_images = os.listdir(test_path + \"NORMAL\")\n",
    "def plotter(i):\n",
    "    image_covid = cv2.imread(test_path+\"COVID/\"+covid_images[i])\n",
    "    image_covid = skimage.transform.resize(image_covid, (150, 150, 3) , mode = 'reflect')\n",
    "    image_normal = cv2.imread(test_path+\"NORMAL/\"+normal_images[i])\n",
    "    image_normal = skimage.transform.resize(image_normal, (150, 150, 3))\n",
    "    pair = np.concatenate((image_normal, image_covid), axis=1)\n",
    "    print(\"(Left) - Normal (0) Vs (Right) - COVID (1)\")\n",
    "    print(\"-----------------------------------------------------------------------------------------------------------------------------------\")\n",
    "    plt.figure(figsize=(10,5))\n",
    "    plt.imshow(pair)\n",
    "    plt.show()\n",
    "for i in range(0,10):\n",
    "    plotter(i)"
   ]
  },
  {
   "cell_type": "code",
   "execution_count": null,
   "metadata": {
    "id": "wEp0MTg65SNI",
    "tags": []
   },
   "outputs": [],
   "source": [
    "data_augmentation = keras.Sequential(\n",
    "    [\n",
    "        layers.experimental.preprocessing.RandomFlip(\"horizontal\"),\n",
    "        layers.experimental.preprocessing.RandomRotation(0.1),\n",
    "    ]\n",
    ")"
   ]
  },
  {
   "cell_type": "code",
   "execution_count": null,
   "metadata": {},
   "outputs": [],
   "source": [
    "import numpy as np\n",
    "from keras import layers\n",
    "from keras.layers import Input, Add, Dense, Activation, ZeroPadding2D, BatchNormalization, Flatten, Conv2D, MaxPooling2D, Dropout"
   ]
  },
  {
   "cell_type": "code",
   "execution_count": null,
   "metadata": {
    "id": "Np0JJm7E--r0"
   },
   "outputs": [],
   "source": [
    "def identity_block(X, f, filters):\n",
    "    F1, F2 = filters\n",
    "\n",
    "    X_shortcut = X\n",
    "    X = Conv2D(filters=F1, kernel_size = 1, strides=1, padding=\"same\")(X)\n",
    "    X = BatchNormalization()(X)\n",
    "    X = Activation(\"relu\")(X)\n",
    "\n",
    "    X = Conv2D(filters=F2, kernel_size = 1, strides=1, padding=\"same\")(X)\n",
    "    X = BatchNormalization()(X)\n",
    "\n",
    "    X = Add()([X, X_shortcut])\n",
    "    X = Activation(\"relu\")(X)\n",
    "    return X"
   ]
  },
  {
   "cell_type": "code",
   "execution_count": null,
   "metadata": {
    "id": "llAr6ud8--n-",
    "jupyter": {
     "source_hidden": true
    },
    "tags": []
   },
   "outputs": [],
   "source": [
    "def convolutional_block(X, f, filters):\n",
    "    F1, F2 = filters\n",
    "\n",
    "    X_shortcut = X\n",
    "    X = Conv2D(filters=F1, kernel_size = 1, strides=2, padding=\"same\")(X)\n",
    "    X = BatchNormalization()(X)\n",
    "    X = Activation(\"relu\")(X)\n",
    "\n",
    "    X = Conv2D(filters=F2, kernel_size = 3, strides=1, padding=\"same\")(X)\n",
    "    X = BatchNormalization()(X)\n",
    "\n",
    "    X_shortcut = Conv2D(filters = F2, kernel_size = 1, strides=2, padding=\"same\")(X_shortcut)\n",
    "    X_shortcut = BatchNormalization()(X_shortcut)\n",
    "\n",
    "    X = Add()([X, X_shortcut])\n",
    "    X = Activation(\"relu\")(X)\n",
    "    return X"
   ]
  },
  {
   "cell_type": "code",
   "execution_count": null,
   "metadata": {
    "id": "tAOdQ1Cw--j2",
    "tags": []
   },
   "outputs": [],
   "source": [
    "from keras.models import Model\n",
    "def ResNet(input_shape, classes):\n",
    "    X_input = Input(input_shape)\n",
    "    \n",
    "    X = Conv2D(64, 3, strides=2)(X_input)\n",
    "    X = BatchNormalization()(X)\n",
    "    X = Activation(\"relu\")(X)\n",
    "    X = MaxPooling2D(3, strides=2)(X)\n",
    "\n",
    "    X = convolutional_block(X, f=3, filters =[64,128])\n",
    "    X = identity_block(X, f=3, filters = [64,128])\n",
    "    X = identity_block(X, f=3, filters = [64,128])\n",
    "\n",
    "    X = convolutional_block(X, f=3, filters =[256,512])\n",
    "    X = identity_block(X,f=3, filters = [256,512])\n",
    "    X = identity_block(X,f=3, filters = [256,512])\n",
    "\n",
    "    if classes == 2:\n",
    "        activation = \"sigmoid\"\n",
    "        units = 1\n",
    "    else:\n",
    "        activation = \"softmax\"\n",
    "        units = classes\n",
    "\n",
    "    X = MaxPooling2D(pool_size=(2, 2), padding='same')(X)\n",
    "    X = Flatten()(X)\n",
    "    X = Dropout(0.2)(X)\n",
    "    X = Dense(units, activation =activation)(X)\n",
    "\n",
    "    model = Model(inputs=X_input, outputs=X, name='ResNet')\n",
    "\n",
    "    return model"
   ]
  },
  {
   "cell_type": "code",
   "execution_count": null,
   "metadata": {
    "id": "Hd_M4ejl4typ",
    "scrolled": true,
    "tags": []
   },
   "outputs": [],
   "source": [
    "resnet =ResNet(input_shape = (224,224,3),classes=2)"
   ]
  },
  {
   "cell_type": "code",
   "execution_count": null,
   "metadata": {
    "id": "np4JL3hz4tty",
    "tags": []
   },
   "outputs": [],
   "source": [
    "len(resnet.layers)"
   ]
  },
  {
   "cell_type": "code",
   "execution_count": null,
   "metadata": {},
   "outputs": [],
   "source": [
    "import tensorflow as tf\n",
    "tf.__version__"
   ]
  },
  {
   "cell_type": "code",
   "execution_count": null,
   "metadata": {},
   "outputs": [],
   "source": []
  },
  {
   "cell_type": "code",
   "execution_count": null,
   "metadata": {
    "id": "xsWw3sDc4tp9",
    "jupyter": {
     "outputs_hidden": true
    },
    "tags": []
   },
   "outputs": [],
   "source": [
    "resnet.summary()  "
   ]
  },
  {
   "cell_type": "code",
   "execution_count": null,
   "metadata": {
    "id": "D1Q-tTMH4tmF"
   },
   "outputs": [],
   "source": [
    "resnet.compile(optimizer='adam', loss='binary_crossentropy', metrics=['accuracy'])"
   ]
  },
  {
   "cell_type": "code",
   "execution_count": null,
   "metadata": {
    "id": "M7UbKfQl4tiG",
    "jupyter": {
     "outputs_hidden": true
    },
    "tags": []
   },
   "outputs": [],
   "source": [
    "import pydot\n",
    "from IPython.display import SVG\n",
    "from keras.utils.vis_utils import model_to_dot\n",
    "from keras.utils import plot_model\n",
    "\n",
    "plot_model(resnet, to_file='resnet56.png')\n",
    "SVG(model_to_dot(resnet).create(prog='dot', format='svg'))"
   ]
  },
  {
   "cell_type": "code",
   "execution_count": null,
   "metadata": {
    "id": "gd0IG-1H4teb"
   },
   "outputs": [],
   "source": []
  },
  {
   "cell_type": "markdown",
   "metadata": {
    "id": "ZjFqFMM-4tZu"
   },
   "source": [
    "ReduceLROnPlateu = Reduce learning rate when a metric (val_loss) has stopped improving."
   ]
  },
  {
   "cell_type": "code",
   "execution_count": null,
   "metadata": {
    "id": "5sUecxnXfEmy"
   },
   "outputs": [],
   "source": [
    "from keras.callbacks import ReduceLROnPlateau , ModelCheckpoint\n",
    "lr_reduce = ReduceLROnPlateau(monitor='val_loss', factor=0.1, min_delta=0.0001, patience=1, verbose=1)\n"
   ]
  },
  {
   "cell_type": "code",
   "execution_count": null,
   "metadata": {},
   "outputs": [],
   "source": [
    "tb_callbacks = tf.keras.callbacks.TensorBoard(log_dir=\"logs/adam\", histogram_freq =1)"
   ]
  },
  {
   "cell_type": "code",
   "execution_count": null,
   "metadata": {
    "id": "Qg0OSz1CfEZn"
   },
   "outputs": [],
   "source": [
    "filepath=\"weights.hdf5\"\n",
    "checkpoint = ModelCheckpoint(filepath, monitor='val_accuracy', verbose=1, save_best_only=True, mode='max')"
   ]
  },
  {
   "cell_type": "code",
   "execution_count": null,
   "metadata": {
    "id": "Euci6D8KFx8Z",
    "tags": []
   },
   "outputs": [],
   "source": [
    "resnet.summary()"
   ]
  },
  {
   "cell_type": "code",
   "execution_count": null,
   "metadata": {
    "colab": {
     "base_uri": "https://localhost:8080/"
    },
    "id": "k3GHCMTC5sP7",
    "outputId": "9e2ec0c7-5e1c-4d9d-cc0a-d2561a1ecba0",
    "tags": []
   },
   "outputs": [],
   "source": [
    "history = resnet.fit(X_train, label_train, epochs = 10, validation_split=0.15, callbacks=[tb_callbacks, lr_reduce, checkpoint])"
   ]
  },
  {
   "cell_type": "code",
   "execution_count": null,
   "metadata": {
    "id": "zQnKpjcT-HWb"
   },
   "outputs": [],
   "source": [
    "resnet.save('resnet_covid.h5') "
   ]
  },
  {
   "cell_type": "code",
   "execution_count": null,
   "metadata": {
    "id": "ilkVTQFC6A2f"
   },
   "outputs": [],
   "source": [
    "from keras.models import load_model\n",
    "load_resnet = load_model(\"resnet_covid.h5\")"
   ]
  },
  {
   "cell_type": "code",
   "execution_count": null,
   "metadata": {
    "colab": {
     "base_uri": "https://localhost:8080/",
     "height": 573
    },
    "id": "1QkdGE03-HE9",
    "outputId": "5d83c2ac-f6fb-4d35-d455-a53198ffd086"
   },
   "outputs": [],
   "source": [
    "import matplotlib.pyplot as plt\n",
    "\n",
    "plt.plot(history.history['accuracy'])\n",
    "plt.plot(history.history['val_accuracy'])\n",
    "plt.title('model accuracy')\n",
    "plt.ylabel('accuracy')\n",
    "plt.xlabel('epoch')\n",
    "plt.legend(['train', 'test'], loc='upper left')\n",
    "plt.show()\n",
    "\n",
    "# summarize history for loss\n",
    "plt.plot(history.history['loss'])\n",
    "plt.plot(history.history['val_loss'])\n",
    "plt.title('model loss')\n",
    "plt.ylabel('loss')\n",
    "plt.xlabel('epoch')\n",
    "plt.legend(['train', 'test'], loc='upper left')\n",
    "plt.show()"
   ]
  },
  {
   "cell_type": "code",
   "execution_count": null,
   "metadata": {
    "colab": {
     "base_uri": "https://localhost:8080/"
    },
    "id": "CttM3IuND5E8",
    "jupyter": {
     "outputs_hidden": true
    },
    "outputId": "85805863-58fa-4b9c-fbf7-db7eb56d33f0"
   },
   "outputs": [],
   "source": [
    "y_test"
   ]
  },
  {
   "cell_type": "code",
   "execution_count": null,
   "metadata": {
    "colab": {
     "base_uri": "https://localhost:8080/"
    },
    "id": "j2geGuCoGoqu",
    "outputId": "f5006a7b-bb74-4958-f3df-4b901758083c"
   },
   "outputs": [],
   "source": [
    "test_set.classes"
   ]
  },
  {
   "cell_type": "code",
   "execution_count": null,
   "metadata": {
    "colab": {
     "base_uri": "https://localhost:8080/"
    },
    "id": "Yv7QJHEtGxCZ",
    "outputId": "bbd42f3d-96b3-46a6-f4a9-d040e6e9c368"
   },
   "outputs": [],
   "source": [
    "label_test"
   ]
  },
  {
   "cell_type": "code",
   "execution_count": null,
   "metadata": {
    "colab": {
     "base_uri": "https://localhost:8080/"
    },
    "id": "YHrwB-evEPNB",
    "outputId": "9c6ad2f2-c329-4651-ca49-0829c574512a",
    "scrolled": true
   },
   "outputs": [],
   "source": [
    "y_pred"
   ]
  },
  {
   "cell_type": "markdown",
   "metadata": {},
   "source": [
    "## NOTE:\n",
    "### NORMAL = 0\n",
    "### COVID = 1"
   ]
  },
  {
   "cell_type": "code",
   "execution_count": null,
   "metadata": {
    "colab": {
     "base_uri": "https://localhost:8080/",
     "height": 286
    },
    "id": "zuPB8PS0-QAi",
    "outputId": "267485b1-0225-41eb-bbc6-c005568fd52f"
   },
   "outputs": [],
   "source": [
    "import seaborn as sns\n",
    "import sklearn.metrics as metrics\n",
    "\n",
    "y_pred = resnet.predict(X_test, workers=0)\n",
    "y_pred = np.where(y_pred>0.5, 1, 0)\n",
    "cm = metrics.confusion_matrix(label_test, y_pred)\n",
    "sns.heatmap(cm, annot = True)\n",
    "plt.xlabel(\"Predicted labels\")\n",
    "plt.ylabel(\"True labels\")\n",
    "plt.suptitle(\"CM when threshold '>0.5'\")"
   ]
  },
  {
   "cell_type": "code",
   "execution_count": null,
   "metadata": {
    "tags": []
   },
   "outputs": [],
   "source": [
    "import seaborn as sns\n",
    "import sklearn.metrics as metrics\n",
    "import matplotlib.pyplot as plt\n",
    "\n",
    "y_pred = resnet.predict(X_test, workers=0)\n",
    "y_pred = np.where(y_pred>0.75, 1, 0)\n",
    "cm = metrics.confusion_matrix(label_test, y_pred)\n",
    "sns.heatmap(cm, annot = True)\n",
    "plt.xlabel(\"Predicted labels\")\n",
    "plt.ylabel(\"True labels\")\n",
    "plt.suptitle(\"CM when threshold '>0.75'\")"
   ]
  },
  {
   "cell_type": "code",
   "execution_count": null,
   "metadata": {},
   "outputs": [],
   "source": [
    "y_pred = load_resnet.predict(X_test, workers=0)\n",
    "y_pred = np.where(y_pred>0.70, 'COVID positive', 'COVID negtive')\n",
    "y_pred"
   ]
  },
  {
   "cell_type": "code",
   "execution_count": null,
   "metadata": {},
   "outputs": [],
   "source": [
    "cm"
   ]
  },
  {
   "cell_type": "code",
   "execution_count": null,
   "metadata": {
    "colab": {
     "base_uri": "https://localhost:8080/"
    },
    "id": "88FdZYMq-P-L",
    "outputId": "90af1977-0ee4-4a49-e37f-30637a23604e"
   },
   "outputs": [],
   "source": [
    "print(\"Loss of the model is - \" , resnet.evaluate(X_test, label_test)[0])\n",
    "print(\"Accuracy of the model is - \" ,resnet.evaluate(X_test,label_test)[1]*100 , \"%\")"
   ]
  },
  {
   "cell_type": "code",
   "execution_count": null,
   "metadata": {
    "id": "AKFLd7cW-P4P"
   },
   "outputs": [],
   "source": [
    "from sklearn.metrics import classification_report"
   ]
  },
  {
   "cell_type": "code",
   "execution_count": null,
   "metadata": {
    "id": "p4YaPabc5QhP"
   },
   "outputs": [],
   "source": [
    "print(classification_report(label_test,y_pred))"
   ]
  },
  {
   "cell_type": "code",
   "execution_count": null,
   "metadata": {
    "id": "bl43IzFk5QXc"
   },
   "outputs": [],
   "source": []
  },
  {
   "cell_type": "code",
   "execution_count": null,
   "metadata": {
    "id": "iQPE3vS45QST"
   },
   "outputs": [],
   "source": []
  },
  {
   "cell_type": "markdown",
   "metadata": {},
   "source": [
    "<h1>VGG16 Architecture</h1>"
   ]
  },
  {
   "cell_type": "code",
   "execution_count": null,
   "metadata": {},
   "outputs": [],
   "source": [
    "from keras.models import Sequential\n",
    "from keras.layers import MaxPool2D\n",
    "\n",
    "vgg = Sequential()\n",
    "vgg.add(Conv2D(input_shape=(224,224,3),filters=64,kernel_size=(3,3),padding=\"same\", activation=\"relu\"))\n",
    "vgg.add(BatchNormalization())\n",
    "\n",
    "vgg.add(Conv2D(filters=64,kernel_size=(3,3),padding=\"same\", activation=\"relu\"))\n",
    "vgg.add(MaxPool2D(pool_size=(2,2),strides=(2,2)))\n",
    "vgg.add(BatchNormalization())\n",
    "\n",
    "vgg.add(Conv2D(filters=128, kernel_size=(3,3), padding=\"same\", activation=\"relu\"))\n",
    "vgg.add(BatchNormalization())\n",
    "\n",
    "vgg.add(Conv2D(filters=128, kernel_size=(3,3), padding=\"same\", activation=\"relu\"))\n",
    "vgg.add(MaxPool2D(pool_size=(2,2),strides=(2,2)))\n",
    "vgg.add(BatchNormalization())\n",
    "\n",
    "vgg.add(Conv2D(filters=256, kernel_size=(3,3), padding=\"same\", activation=\"relu\"))\n",
    "vgg.add(BatchNormalization())\n",
    "\n",
    "# vgg.add(Conv2D(filters=256, kernel_size=(3,3), padding=\"same\", activation=\"relu\"))\n",
    "# vgg.add(BatchNormalization())\n",
    "\n",
    "vgg.add(Conv2D(filters=256, kernel_size=(3,3), padding=\"same\", activation=\"relu\"))\n",
    "vgg.add(MaxPool2D(pool_size=(2,2),strides=(2,2)))\n",
    "vgg.add(BatchNormalization())\n",
    "\n",
    "# vgg.add(Conv2D(filters=512, kernel_size=(3,3), padding=\"same\", activation=\"relu\"))\n",
    "# vgg.add(BatchNormalization())\n",
    "\n",
    "# vgg.add(Conv2D(filters=512, kernel_size=(3,3), padding=\"same\", activation=\"relu\"))\n",
    "# vgg.add(BatchNormalization())\n",
    "\n",
    "vgg.add(Conv2D(filters=512, kernel_size=(3,3), padding=\"same\", activation=\"relu\"))\n",
    "vgg.add(MaxPool2D(pool_size=(2,2),strides=(2,2)))\n",
    "vgg.add(BatchNormalization())\n",
    "\n",
    "# vgg.add(Conv2D(filters=512, kernel_size=(3,3), padding=\"same\", activation=\"relu\"))\n",
    "# vgg.add(BatchNormalization())\n",
    "\n",
    "vgg.add(Conv2D(filters=512, kernel_size=(3,3), padding=\"same\", activation=\"relu\"))\n",
    "vgg.add(BatchNormalization())\n",
    "\n",
    "vgg.add(Conv2D(filters=512, kernel_size=(3,3), padding=\"same\", activation=\"relu\"))\n",
    "vgg.add(MaxPool2D(pool_size=(2,2),strides=(2,2)))\n",
    "vgg.add(BatchNormalization())\n",
    "\n",
    "vgg.add(Flatten())\n",
    "vgg.add(Dropout(0.2))\n",
    "vgg.add(Dense(units = 1, activation = 'sigmoid'))"
   ]
  },
  {
   "cell_type": "code",
   "execution_count": null,
   "metadata": {},
   "outputs": [],
   "source": [
    "len(vgg.layers)"
   ]
  },
  {
   "cell_type": "code",
   "execution_count": null,
   "metadata": {},
   "outputs": [],
   "source": [
    "vgg.summary()"
   ]
  },
  {
   "cell_type": "code",
   "execution_count": null,
   "metadata": {},
   "outputs": [],
   "source": [
    "vgg.compile(optimizer = 'Adam', loss = 'binary_crossentropy', metrics=['accuracy'])\n"
   ]
  },
  {
   "cell_type": "code",
   "execution_count": null,
   "metadata": {
    "tags": []
   },
   "outputs": [],
   "source": [
    "import pydot\n",
    "from IPython.display import SVG\n",
    "from keras.utils.vis_utils import model_to_dot\n",
    "from keras.utils import plot_model\n",
    "\n",
    "plot_model(vgg, to_file='model_vgg16.png')\n",
    "SVG(model_to_dot(vgg).create(prog='dot', format='svg'))"
   ]
  },
  {
   "cell_type": "code",
   "execution_count": null,
   "metadata": {},
   "outputs": [],
   "source": [
    "from keras.callbacks import ReduceLROnPlateau , ModelCheckpoint\n",
    "lr_reduce = ReduceLROnPlateau(monitor='val_loss', factor=0.1, min_delta=0.0001, patience=1, verbose=1)"
   ]
  },
  {
   "cell_type": "code",
   "execution_count": null,
   "metadata": {},
   "outputs": [],
   "source": [
    "filepath_vgg=\"weights_vgg.hdf5\"\n",
    "checkpoint = ModelCheckpoint(filepath_vgg, monitor='val_accuracy', verbose=1, save_best_only=True, mode='max')"
   ]
  },
  {
   "cell_type": "code",
   "execution_count": null,
   "metadata": {},
   "outputs": [],
   "source": [
    "vgg_callbacks = tf.keras.callbacks.TensorBoard(log_dir=\"logs/vgg\", histogram_freq =1)"
   ]
  },
  {
   "cell_type": "code",
   "execution_count": null,
   "metadata": {},
   "outputs": [],
   "source": [
    "history_vgg = vgg.fit(X_train, label_train, epochs = 10, validation_split = 0.15, callbacks = [vgg_callbacks,lr_reduce, checkpoint])"
   ]
  },
  {
   "cell_type": "code",
   "execution_count": null,
   "metadata": {},
   "outputs": [],
   "source": [
    "vgg.save('vgg_covid.h5') "
   ]
  },
  {
   "cell_type": "code",
   "execution_count": null,
   "metadata": {},
   "outputs": [],
   "source": [
    "print(\"Loss of the model is - \" , vgg.evaluate(X_test, label_test)[0])\n",
    "print(\"Accuracy of the model is - \", vgg.evaluate(X_test,label_test)[1]*100 , \"%\")"
   ]
  },
  {
   "cell_type": "code",
   "execution_count": null,
   "metadata": {},
   "outputs": [],
   "source": [
    "import matplotlib.pyplot as plt\n",
    "\n",
    "plt.plot(history_vgg.history['accuracy'])\n",
    "plt.plot(history_vgg.history['val_accuracy'])\n",
    "plt.title('model accuracy')\n",
    "plt.ylabel('accuracy')\n",
    "plt.xlabel('epoch')\n",
    "plt.legend(['train', 'valid'], loc='upper left')\n",
    "plt.show()\n",
    "\n",
    "# summarize history for loss\n",
    "plt.plot(history_vgg.history['loss'])\n",
    "plt.plot(history_vgg.history['val_loss'])\n",
    "plt.title('model loss')\n",
    "plt.ylabel('loss')\n",
    "plt.xlabel('epoch')\n",
    "plt.legend(['train', 'valid'], loc='upper left')\n",
    "plt.show()"
   ]
  },
  {
   "cell_type": "code",
   "execution_count": null,
   "metadata": {},
   "outputs": [],
   "source": []
  },
  {
   "cell_type": "code",
   "execution_count": null,
   "metadata": {},
   "outputs": [],
   "source": []
  },
  {
   "cell_type": "code",
   "execution_count": null,
   "metadata": {
    "colab": {
     "base_uri": "https://localhost:8080/",
     "height": 1000
    },
    "id": "sVJDKBpzMqf0",
    "outputId": "70f7608c-f5dc-4ee1-ea64-fbe0ee941039"
   },
   "outputs": [],
   "source": []
  },
  {
   "cell_type": "code",
   "execution_count": null,
   "metadata": {
    "colab": {
     "base_uri": "https://localhost:8080/",
     "height": 195
    },
    "id": "bvRJMTKCZsDB",
    "outputId": "788ac0a2-e878-4473-a7dd-dcc145f8298c",
    "tags": []
   },
   "outputs": [],
   "source": [
    "\n",
    "import seaborn as sns\n",
    "import sklearn.metrics as metrics\n",
    "import matplotlib.pyplot as plt\n",
    "\n",
    "y_pred = vgg.predict(X_test, workers=0)\n",
    "y_pred = np.where(y_pred>0.5, 1, 0)\n",
    "cm = metrics.confusion_matrix(label_test, y_pred)\n",
    "sns.heatmap(cm, annot = True)\n",
    "plt.xlabel(\"Predicted labels\")\n",
    "plt.ylabel(\"True labels\")\n",
    "plt.suptitle(\"CM when threshold '>0.5'\")"
   ]
  },
  {
   "cell_type": "code",
   "execution_count": null,
   "metadata": {},
   "outputs": [],
   "source": [
    "y_pred = vgg.predict(X_test, workers=0)\n",
    "y_pred = np.where(y_pred>0.75, 1, 0)\n",
    "cm = metrics.confusion_matrix(label_test, y_pred)\n",
    "sns.heatmap(cm, annot = True)\n",
    "plt.xlabel(\"Predicted labels\")\n",
    "plt.ylabel(\"True labels\")\n",
    "plt.suptitle(\"CM when threshold '>0.75'\")"
   ]
  },
  {
   "cell_type": "code",
   "execution_count": null,
   "metadata": {},
   "outputs": [],
   "source": [
    "print(classification_report(label_test,y_pred))"
   ]
  },
  {
   "cell_type": "code",
   "execution_count": null,
   "metadata": {},
   "outputs": [],
   "source": []
  },
  {
   "cell_type": "code",
   "execution_count": null,
   "metadata": {},
   "outputs": [],
   "source": []
  },
  {
   "cell_type": "code",
   "execution_count": null,
   "metadata": {},
   "outputs": [],
   "source": []
  },
  {
   "cell_type": "code",
   "execution_count": null,
   "metadata": {},
   "outputs": [],
   "source": [
    "lenet = Sequential()\n",
    "lenet.add(Conv2D( 30 , (5,5) , input_shape = (224,224,3) ))\n",
    "lenet.add(Activation('relu'))\n",
    "lenet.add(MaxPooling2D(pool_size = (2,2) , strides = (2,2)))\n",
    "\n",
    "lenet.add(Conv2D(50, (5,5)))\n",
    "lenet.add(Activation('relu'))\n",
    "lenet.add(MaxPooling2D(pool_size = (2,2) , strides = (2,2)))\n",
    "\n",
    "lenet.add(Flatten())\n",
    "lenet.add(Dense(500 , activation = 'relu'))\n",
    "lenet.add(Dense(1, activation = 'sigmoid'))\n",
    "\n",
    "lenet.compile(loss='binary_crossentropy' , metrics = ['accuracy'] , optimizer = 'Adam')\n",
    "\n"
   ]
  },
  {
   "cell_type": "code",
   "execution_count": null,
   "metadata": {
    "jupyter": {
     "outputs_hidden": true
    },
    "tags": []
   },
   "outputs": [],
   "source": [
    "import pydot\n",
    "from IPython.display import SVG\n",
    "from keras.utils.vis_utils import model_to_dot\n",
    "from keras.utils import plot_model\n",
    "\n",
    "plot_model(lenet, to_file='model_lenet.png')\n",
    "SVG(model_to_dot(lenet).create(prog='dot', format='svg'))"
   ]
  },
  {
   "cell_type": "code",
   "execution_count": null,
   "metadata": {},
   "outputs": [],
   "source": [
    "from keras.callbacks import ReduceLROnPlateau , ModelCheckpoint\n",
    "lr_reduce = ReduceLROnPlateau(monitor='val_loss', factor=0.1, min_delta=0.0001, patience=1, verbose=1)"
   ]
  },
  {
   "cell_type": "code",
   "execution_count": null,
   "metadata": {},
   "outputs": [],
   "source": [
    "filepath_vgg=\"weights_lenet.hdf5\"\n",
    "checkpoint = ModelCheckpoint(filepath_vgg, monitor='val_accuracy', verbose=1, save_best_only=True, mode='max')"
   ]
  },
  {
   "cell_type": "code",
   "execution_count": null,
   "metadata": {},
   "outputs": [],
   "source": [
    "import tensorflow as tf"
   ]
  },
  {
   "cell_type": "code",
   "execution_count": null,
   "metadata": {},
   "outputs": [],
   "source": [
    "vgg_callbacks = tf.keras.callbacks.TensorBoard(log_dir=\"logs/lenet\", histogram_freq =1)"
   ]
  },
  {
   "cell_type": "code",
   "execution_count": null,
   "metadata": {
    "tags": []
   },
   "outputs": [],
   "source": [
    "history_lenet = lenet.fit(X_train, label_train, epochs = 10, validation_split = 0.15, callbacks = [vgg_callbacks,lr_reduce, checkpoint])"
   ]
  },
  {
   "cell_type": "code",
   "execution_count": null,
   "metadata": {},
   "outputs": [],
   "source": [
    "lenet.save('lenet_covid.h5') "
   ]
  },
  {
   "cell_type": "code",
   "execution_count": null,
   "metadata": {},
   "outputs": [],
   "source": [
    "print(\"Loss of the model is - \" , lenet.evaluate(X_test, label_test)[0])\n",
    "print(\"Accuracy of the model is - \", lenet.evaluate(X_test,label_test)[1]*100 , \"%\")"
   ]
  },
  {
   "cell_type": "code",
   "execution_count": null,
   "metadata": {},
   "outputs": [],
   "source": [
    "import matplotlib.pyplot as plt\n",
    "\n",
    "plt.plot(history_lenet.history['accuracy'])\n",
    "plt.plot(history_lenet.history['val_accuracy'])\n",
    "plt.title('model accuracy')\n",
    "plt.ylabel('accuracy')\n",
    "plt.xlabel('epoch')\n",
    "plt.legend(['train', 'valid'], loc='upper left')\n",
    "plt.show()\n",
    "\n",
    "# summarize history for loss\n",
    "plt.plot(history_lenet.history['loss'])\n",
    "plt.plot(history_lenet.history['val_loss'])\n",
    "plt.title('model loss')\n",
    "plt.ylabel('loss')\n",
    "plt.xlabel('epoch')\n",
    "plt.legend(['train', 'valid'], loc='upper left')\n",
    "plt.show()"
   ]
  },
  {
   "cell_type": "code",
   "execution_count": null,
   "metadata": {},
   "outputs": [],
   "source": []
  },
  {
   "cell_type": "code",
   "execution_count": null,
   "metadata": {},
   "outputs": [],
   "source": []
  },
  {
   "cell_type": "code",
   "execution_count": null,
   "metadata": {
    "colab": {
     "base_uri": "https://localhost:8080/",
     "height": 1000
    },
    "id": "sVJDKBpzMqf0",
    "outputId": "70f7608c-f5dc-4ee1-ea64-fbe0ee941039"
   },
   "outputs": [],
   "source": []
  },
  {
   "cell_type": "code",
   "execution_count": null,
   "metadata": {
    "colab": {
     "base_uri": "https://localhost:8080/",
     "height": 195
    },
    "id": "bvRJMTKCZsDB",
    "outputId": "788ac0a2-e878-4473-a7dd-dcc145f8298c",
    "tags": []
   },
   "outputs": [],
   "source": [
    "import seaborn as sns\n",
    "import sklearn.metrics as metrics\n",
    "import matplotlib.pyplot as plt\n",
    "\n",
    "y_pred = lenet.predict(X_test, workers=0)\n",
    "y_pred = np.where(y_pred>0.5, 1, 0)\n",
    "cm = metrics.confusion_matrix(label_test, y_pred)\n",
    "sns.heatmap(cm, annot = True)\n",
    "plt.xlabel(\"Predicted labels\")\n",
    "plt.ylabel(\"True labels\")\n",
    "plt.suptitle(\"CM when threshold '>0.5'\")"
   ]
  },
  {
   "cell_type": "code",
   "execution_count": null,
   "metadata": {},
   "outputs": [],
   "source": [
    "y_pred = vgg.predict(X_test, workers=0)\n",
    "y_pred = np.where(y_pred>0.75, 1, 0)\n",
    "cm = metrics.confusion_matrix(label_test, y_pred)\n",
    "sns.heatmap(cm, annot = True)\n",
    "plt.xlabel(\"Predicted labels\")\n",
    "plt.ylabel(\"True labels\")\n",
    "plt.suptitle(\"CM when threshold '>0.75'\")"
   ]
  },
  {
   "cell_type": "code",
   "execution_count": null,
   "metadata": {},
   "outputs": [],
   "source": [
    "print(classification_report(label_test,y_pred))"
   ]
  },
  {
   "cell_type": "code",
   "execution_count": null,
   "metadata": {},
   "outputs": [],
   "source": []
  },
  {
   "cell_type": "code",
   "execution_count": null,
   "metadata": {},
   "outputs": [],
   "source": []
  },
  {
   "cell_type": "code",
   "execution_count": null,
   "metadata": {},
   "outputs": [],
   "source": []
  },
  {
   "cell_type": "code",
   "execution_count": null,
   "metadata": {},
   "outputs": [],
   "source": []
  },
  {
   "cell_type": "code",
   "execution_count": null,
   "metadata": {},
   "outputs": [],
   "source": []
  },
  {
   "cell_type": "code",
   "execution_count": null,
   "metadata": {},
   "outputs": [],
   "source": []
  }
 ],
 "metadata": {
  "accelerator": "GPU",
  "colab": {
   "collapsed_sections": [],
   "name": "final.ipynb",
   "provenance": []
  },
  "kernelspec": {
   "display_name": "Python 3",
   "language": "python",
   "name": "python3"
  },
  "language_info": {
   "codemirror_mode": {
    "name": "ipython",
    "version": 3
   },
   "file_extension": ".py",
   "mimetype": "text/x-python",
   "name": "python",
   "nbconvert_exporter": "python",
   "pygments_lexer": "ipython3",
   "version": "3.7.10"
  },
  "widgets": {
   "application/vnd.jupyter.widget-state+json": {
    "13bece5a76fc47af9e75e0b4441dc809": {
     "model_module": "@jupyter-widgets/base",
     "model_name": "LayoutModel",
     "state": {
      "_model_module": "@jupyter-widgets/base",
      "_model_module_version": "1.2.0",
      "_model_name": "LayoutModel",
      "_view_count": null,
      "_view_module": "@jupyter-widgets/base",
      "_view_module_version": "1.2.0",
      "_view_name": "LayoutView",
      "align_content": null,
      "align_items": null,
      "align_self": null,
      "border": null,
      "bottom": null,
      "display": null,
      "flex": null,
      "flex_flow": null,
      "grid_area": null,
      "grid_auto_columns": null,
      "grid_auto_flow": null,
      "grid_auto_rows": null,
      "grid_column": null,
      "grid_gap": null,
      "grid_row": null,
      "grid_template_areas": null,
      "grid_template_columns": null,
      "grid_template_rows": null,
      "height": null,
      "justify_content": null,
      "justify_items": null,
      "left": null,
      "margin": null,
      "max_height": null,
      "max_width": null,
      "min_height": null,
      "min_width": null,
      "object_fit": null,
      "object_position": null,
      "order": null,
      "overflow": null,
      "overflow_x": null,
      "overflow_y": null,
      "padding": null,
      "right": null,
      "top": null,
      "visibility": null,
      "width": null
     }
    },
    "2a75b771939d49b1b8229ef429184b08": {
     "model_module": "@jupyter-widgets/controls",
     "model_name": "DescriptionStyleModel",
     "state": {
      "_model_module": "@jupyter-widgets/controls",
      "_model_module_version": "1.5.0",
      "_model_name": "DescriptionStyleModel",
      "_view_count": null,
      "_view_module": "@jupyter-widgets/base",
      "_view_module_version": "1.2.0",
      "_view_name": "StyleView",
      "description_width": ""
     }
    },
    "38b983ddfb77417098c6e8b417bce8f7": {
     "model_module": "@jupyter-widgets/controls",
     "model_name": "HTMLModel",
     "state": {
      "_dom_classes": [],
      "_model_module": "@jupyter-widgets/controls",
      "_model_module_version": "1.5.0",
      "_model_name": "HTMLModel",
      "_view_count": null,
      "_view_module": "@jupyter-widgets/controls",
      "_view_module_version": "1.5.0",
      "_view_name": "HTMLView",
      "description": "",
      "description_tooltip": null,
      "layout": "IPY_MODEL_d48cc5f3c50f4cb087a15b25ff8aa099",
      "placeholder": "​",
      "style": "IPY_MODEL_2a75b771939d49b1b8229ef429184b08",
      "value": " 2900/2900 [11:16&lt;00:00,  4.29it/s]"
     }
    },
    "3dc3dd3934f44f0c96b2b1d96bcd20c2": {
     "model_module": "@jupyter-widgets/base",
     "model_name": "LayoutModel",
     "state": {
      "_model_module": "@jupyter-widgets/base",
      "_model_module_version": "1.2.0",
      "_model_name": "LayoutModel",
      "_view_count": null,
      "_view_module": "@jupyter-widgets/base",
      "_view_module_version": "1.2.0",
      "_view_name": "LayoutView",
      "align_content": null,
      "align_items": null,
      "align_self": null,
      "border": null,
      "bottom": null,
      "display": null,
      "flex": null,
      "flex_flow": null,
      "grid_area": null,
      "grid_auto_columns": null,
      "grid_auto_flow": null,
      "grid_auto_rows": null,
      "grid_column": null,
      "grid_gap": null,
      "grid_row": null,
      "grid_template_areas": null,
      "grid_template_columns": null,
      "grid_template_rows": null,
      "height": null,
      "justify_content": null,
      "justify_items": null,
      "left": null,
      "margin": null,
      "max_height": null,
      "max_width": null,
      "min_height": null,
      "min_width": null,
      "object_fit": null,
      "object_position": null,
      "order": null,
      "overflow": null,
      "overflow_x": null,
      "overflow_y": null,
      "padding": null,
      "right": null,
      "top": null,
      "visibility": null,
      "width": null
     }
    },
    "6c4dbf0b3fd94e63a0da5d07afe43f58": {
     "model_module": "@jupyter-widgets/controls",
     "model_name": "HTMLModel",
     "state": {
      "_dom_classes": [],
      "_model_module": "@jupyter-widgets/controls",
      "_model_module_version": "1.5.0",
      "_model_name": "HTMLModel",
      "_view_count": null,
      "_view_module": "@jupyter-widgets/controls",
      "_view_module_version": "1.5.0",
      "_view_name": "HTMLView",
      "description": "",
      "description_tooltip": null,
      "layout": "IPY_MODEL_3dc3dd3934f44f0c96b2b1d96bcd20c2",
      "placeholder": "​",
      "style": "IPY_MODEL_707ab722083c43809a5c065d828c25a6",
      "value": " 2915/2915 [11:15&lt;00:00,  4.32it/s]"
     }
    },
    "707ab722083c43809a5c065d828c25a6": {
     "model_module": "@jupyter-widgets/controls",
     "model_name": "DescriptionStyleModel",
     "state": {
      "_model_module": "@jupyter-widgets/controls",
      "_model_module_version": "1.5.0",
      "_model_name": "DescriptionStyleModel",
      "_view_count": null,
      "_view_module": "@jupyter-widgets/base",
      "_view_module_version": "1.2.0",
      "_view_name": "StyleView",
      "description_width": ""
     }
    },
    "81d8d072b57e426fa0fa3d09f8010bb9": {
     "model_module": "@jupyter-widgets/controls",
     "model_name": "FloatProgressModel",
     "state": {
      "_dom_classes": [],
      "_model_module": "@jupyter-widgets/controls",
      "_model_module_version": "1.5.0",
      "_model_name": "FloatProgressModel",
      "_view_count": null,
      "_view_module": "@jupyter-widgets/controls",
      "_view_module_version": "1.5.0",
      "_view_name": "ProgressView",
      "bar_style": "success",
      "description": "100%",
      "description_tooltip": null,
      "layout": "IPY_MODEL_87e0d230fdac4ed9bb565a889c0bf678",
      "max": 2915,
      "min": 0,
      "orientation": "horizontal",
      "style": "IPY_MODEL_bc96a9c9227e42e1b21c4ff2a77a4ce6",
      "value": 2915
     }
    },
    "820fcf4689844cde8033d7c1b7abba34": {
     "model_module": "@jupyter-widgets/controls",
     "model_name": "HBoxModel",
     "state": {
      "_dom_classes": [],
      "_model_module": "@jupyter-widgets/controls",
      "_model_module_version": "1.5.0",
      "_model_name": "HBoxModel",
      "_view_count": null,
      "_view_module": "@jupyter-widgets/controls",
      "_view_module_version": "1.5.0",
      "_view_name": "HBoxView",
      "box_style": "",
      "children": [
       "IPY_MODEL_81d8d072b57e426fa0fa3d09f8010bb9",
       "IPY_MODEL_6c4dbf0b3fd94e63a0da5d07afe43f58"
      ],
      "layout": "IPY_MODEL_13bece5a76fc47af9e75e0b4441dc809"
     }
    },
    "87e0d230fdac4ed9bb565a889c0bf678": {
     "model_module": "@jupyter-widgets/base",
     "model_name": "LayoutModel",
     "state": {
      "_model_module": "@jupyter-widgets/base",
      "_model_module_version": "1.2.0",
      "_model_name": "LayoutModel",
      "_view_count": null,
      "_view_module": "@jupyter-widgets/base",
      "_view_module_version": "1.2.0",
      "_view_name": "LayoutView",
      "align_content": null,
      "align_items": null,
      "align_self": null,
      "border": null,
      "bottom": null,
      "display": null,
      "flex": null,
      "flex_flow": null,
      "grid_area": null,
      "grid_auto_columns": null,
      "grid_auto_flow": null,
      "grid_auto_rows": null,
      "grid_column": null,
      "grid_gap": null,
      "grid_row": null,
      "grid_template_areas": null,
      "grid_template_columns": null,
      "grid_template_rows": null,
      "height": null,
      "justify_content": null,
      "justify_items": null,
      "left": null,
      "margin": null,
      "max_height": null,
      "max_width": null,
      "min_height": null,
      "min_width": null,
      "object_fit": null,
      "object_position": null,
      "order": null,
      "overflow": null,
      "overflow_x": null,
      "overflow_y": null,
      "padding": null,
      "right": null,
      "top": null,
      "visibility": null,
      "width": null
     }
    },
    "a08ffa8e625e44bc899a6e69c8e00945": {
     "model_module": "@jupyter-widgets/controls",
     "model_name": "FloatProgressModel",
     "state": {
      "_dom_classes": [],
      "_model_module": "@jupyter-widgets/controls",
      "_model_module_version": "1.5.0",
      "_model_name": "FloatProgressModel",
      "_view_count": null,
      "_view_module": "@jupyter-widgets/controls",
      "_view_module_version": "1.5.0",
      "_view_name": "ProgressView",
      "bar_style": "success",
      "description": "100%",
      "description_tooltip": null,
      "layout": "IPY_MODEL_dd845d3534fa4bb9882be6e5f771dc9e",
      "max": 2900,
      "min": 0,
      "orientation": "horizontal",
      "style": "IPY_MODEL_cf2c90ce02024007bf9913ab3243dc06",
      "value": 2900
     }
    },
    "bc96a9c9227e42e1b21c4ff2a77a4ce6": {
     "model_module": "@jupyter-widgets/controls",
     "model_name": "ProgressStyleModel",
     "state": {
      "_model_module": "@jupyter-widgets/controls",
      "_model_module_version": "1.5.0",
      "_model_name": "ProgressStyleModel",
      "_view_count": null,
      "_view_module": "@jupyter-widgets/base",
      "_view_module_version": "1.2.0",
      "_view_name": "StyleView",
      "bar_color": null,
      "description_width": "initial"
     }
    },
    "c81f4f251bb74fd08d7c752ade9eeb69": {
     "model_module": "@jupyter-widgets/base",
     "model_name": "LayoutModel",
     "state": {
      "_model_module": "@jupyter-widgets/base",
      "_model_module_version": "1.2.0",
      "_model_name": "LayoutModel",
      "_view_count": null,
      "_view_module": "@jupyter-widgets/base",
      "_view_module_version": "1.2.0",
      "_view_name": "LayoutView",
      "align_content": null,
      "align_items": null,
      "align_self": null,
      "border": null,
      "bottom": null,
      "display": null,
      "flex": null,
      "flex_flow": null,
      "grid_area": null,
      "grid_auto_columns": null,
      "grid_auto_flow": null,
      "grid_auto_rows": null,
      "grid_column": null,
      "grid_gap": null,
      "grid_row": null,
      "grid_template_areas": null,
      "grid_template_columns": null,
      "grid_template_rows": null,
      "height": null,
      "justify_content": null,
      "justify_items": null,
      "left": null,
      "margin": null,
      "max_height": null,
      "max_width": null,
      "min_height": null,
      "min_width": null,
      "object_fit": null,
      "object_position": null,
      "order": null,
      "overflow": null,
      "overflow_x": null,
      "overflow_y": null,
      "padding": null,
      "right": null,
      "top": null,
      "visibility": null,
      "width": null
     }
    },
    "cf2c90ce02024007bf9913ab3243dc06": {
     "model_module": "@jupyter-widgets/controls",
     "model_name": "ProgressStyleModel",
     "state": {
      "_model_module": "@jupyter-widgets/controls",
      "_model_module_version": "1.5.0",
      "_model_name": "ProgressStyleModel",
      "_view_count": null,
      "_view_module": "@jupyter-widgets/base",
      "_view_module_version": "1.2.0",
      "_view_name": "StyleView",
      "bar_color": null,
      "description_width": "initial"
     }
    },
    "d48cc5f3c50f4cb087a15b25ff8aa099": {
     "model_module": "@jupyter-widgets/base",
     "model_name": "LayoutModel",
     "state": {
      "_model_module": "@jupyter-widgets/base",
      "_model_module_version": "1.2.0",
      "_model_name": "LayoutModel",
      "_view_count": null,
      "_view_module": "@jupyter-widgets/base",
      "_view_module_version": "1.2.0",
      "_view_name": "LayoutView",
      "align_content": null,
      "align_items": null,
      "align_self": null,
      "border": null,
      "bottom": null,
      "display": null,
      "flex": null,
      "flex_flow": null,
      "grid_area": null,
      "grid_auto_columns": null,
      "grid_auto_flow": null,
      "grid_auto_rows": null,
      "grid_column": null,
      "grid_gap": null,
      "grid_row": null,
      "grid_template_areas": null,
      "grid_template_columns": null,
      "grid_template_rows": null,
      "height": null,
      "justify_content": null,
      "justify_items": null,
      "left": null,
      "margin": null,
      "max_height": null,
      "max_width": null,
      "min_height": null,
      "min_width": null,
      "object_fit": null,
      "object_position": null,
      "order": null,
      "overflow": null,
      "overflow_x": null,
      "overflow_y": null,
      "padding": null,
      "right": null,
      "top": null,
      "visibility": null,
      "width": null
     }
    },
    "dd845d3534fa4bb9882be6e5f771dc9e": {
     "model_module": "@jupyter-widgets/base",
     "model_name": "LayoutModel",
     "state": {
      "_model_module": "@jupyter-widgets/base",
      "_model_module_version": "1.2.0",
      "_model_name": "LayoutModel",
      "_view_count": null,
      "_view_module": "@jupyter-widgets/base",
      "_view_module_version": "1.2.0",
      "_view_name": "LayoutView",
      "align_content": null,
      "align_items": null,
      "align_self": null,
      "border": null,
      "bottom": null,
      "display": null,
      "flex": null,
      "flex_flow": null,
      "grid_area": null,
      "grid_auto_columns": null,
      "grid_auto_flow": null,
      "grid_auto_rows": null,
      "grid_column": null,
      "grid_gap": null,
      "grid_row": null,
      "grid_template_areas": null,
      "grid_template_columns": null,
      "grid_template_rows": null,
      "height": null,
      "justify_content": null,
      "justify_items": null,
      "left": null,
      "margin": null,
      "max_height": null,
      "max_width": null,
      "min_height": null,
      "min_width": null,
      "object_fit": null,
      "object_position": null,
      "order": null,
      "overflow": null,
      "overflow_x": null,
      "overflow_y": null,
      "padding": null,
      "right": null,
      "top": null,
      "visibility": null,
      "width": null
     }
    },
    "df7f0cb583954fb49510e49c4ef5cb9d": {
     "model_module": "@jupyter-widgets/controls",
     "model_name": "HBoxModel",
     "state": {
      "_dom_classes": [],
      "_model_module": "@jupyter-widgets/controls",
      "_model_module_version": "1.5.0",
      "_model_name": "HBoxModel",
      "_view_count": null,
      "_view_module": "@jupyter-widgets/controls",
      "_view_module_version": "1.5.0",
      "_view_name": "HBoxView",
      "box_style": "",
      "children": [
       "IPY_MODEL_a08ffa8e625e44bc899a6e69c8e00945",
       "IPY_MODEL_38b983ddfb77417098c6e8b417bce8f7"
      ],
      "layout": "IPY_MODEL_c81f4f251bb74fd08d7c752ade9eeb69"
     }
    }
   }
  }
 },
 "nbformat": 4,
 "nbformat_minor": 4
}
